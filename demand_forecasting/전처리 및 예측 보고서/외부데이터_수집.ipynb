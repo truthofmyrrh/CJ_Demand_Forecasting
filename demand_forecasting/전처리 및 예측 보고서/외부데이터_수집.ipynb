{
  "nbformat": 4,
  "nbformat_minor": 0,
  "metadata": {
    "colab": {
      "name": "외부데이터수집.ipynb",
      "provenance": [],
      "collapsed_sections": [],
      "include_colab_link": true
    },
    "kernelspec": {
      "name": "python3",
      "display_name": "Python 3"
    },
    "language_info": {
      "name": "python"
    }
  },
  "cells": [
    {
      "cell_type": "markdown",
      "metadata": {
        "id": "view-in-github",
        "colab_type": "text"
      },
      "source": [
        "<a href=\"https://colab.research.google.com/github/truthofmyrrh/CJ_Demand_Forecasting/blob/main/CODE/%EC%99%B8%EB%B6%80%EB%8D%B0%EC%9D%B4%ED%84%B0_%EC%88%98%EC%A7%91.ipynb\" target=\"_parent\"><img src=\"https://colab.research.google.com/assets/colab-badge.svg\" alt=\"Open In Colab\"/></a>"
      ]
    },
    {
      "cell_type": "code",
      "metadata": {
        "colab": {
          "base_uri": "https://localhost:8080/"
        },
        "id": "zM8IeR-PO4jZ",
        "outputId": "13293a97-b288-4fcf-e75b-534c3c3cb2e1"
      },
      "source": [
        "from google.colab import drive\n",
        "drive.mount('/content/drive')"
      ],
      "execution_count": null,
      "outputs": [
        {
          "output_type": "stream",
          "name": "stdout",
          "text": [
            "Drive already mounted at /content/drive; to attempt to forcibly remount, call drive.mount(\"/content/drive\", force_remount=True).\n"
          ]
        }
      ]
    },
    {
      "cell_type": "code",
      "metadata": {
        "id": "aTet6l5seVRb"
      },
      "source": [
        "from urllib.request import urlopen\n",
        "from urllib.parse import urlencode, unquote, quote_plus\n",
        "import urllib\n",
        "import requests\n",
        "import json\n",
        "\n",
        "import pandas as pd"
      ],
      "execution_count": null,
      "outputs": []
    },
    {
      "cell_type": "code",
      "metadata": {
        "colab": {
          "base_uri": "https://localhost:8080/"
        },
        "id": "hmZ9X430lfZU",
        "outputId": "ce157bf8-9998-43ba-f344-56c8acaf1c12"
      },
      "source": [
        "from lxml import html\n",
        "import requests, bs4\n",
        "\n",
        "!pip install xmltodict\n",
        "import xmltodict"
      ],
      "execution_count": null,
      "outputs": [
        {
          "output_type": "stream",
          "name": "stdout",
          "text": [
            "Requirement already satisfied: xmltodict in /usr/local/lib/python3.7/dist-packages (0.12.0)\n"
          ]
        }
      ]
    },
    {
      "cell_type": "markdown",
      "metadata": {
        "id": "QpiIqj3ipjul"
      },
      "source": [
        "# ***기상 정보 수집***"
      ]
    },
    {
      "cell_type": "code",
      "metadata": {
        "colab": {
          "base_uri": "https://localhost:8080/",
          "height": 574
        },
        "id": "zziUEZO7eV9C",
        "outputId": "7b57f5e0-d2c9-498c-e998-151bac227598"
      },
      "source": [
        "gisangchung = pd.read_csv('/content/drive/MyDrive/예측 모델링/Data/시도별_기상청정보.csv',encoding='cp949')\n",
        "gisangchung"
      ],
      "execution_count": null,
      "outputs": [
        {
          "output_type": "execute_result",
          "data": {
            "text/html": [
              "<div>\n",
              "<style scoped>\n",
              "    .dataframe tbody tr th:only-of-type {\n",
              "        vertical-align: middle;\n",
              "    }\n",
              "\n",
              "    .dataframe tbody tr th {\n",
              "        vertical-align: top;\n",
              "    }\n",
              "\n",
              "    .dataframe thead th {\n",
              "        text-align: right;\n",
              "    }\n",
              "</style>\n",
              "<table border=\"1\" class=\"dataframe\">\n",
              "  <thead>\n",
              "    <tr style=\"text-align: right;\">\n",
              "      <th></th>\n",
              "      <th>시/도</th>\n",
              "      <th>지점</th>\n",
              "      <th>지점명</th>\n",
              "      <th>관리관서</th>\n",
              "    </tr>\n",
              "  </thead>\n",
              "  <tbody>\n",
              "    <tr>\n",
              "      <th>0</th>\n",
              "      <td>서울특별시</td>\n",
              "      <td>108</td>\n",
              "      <td>서울</td>\n",
              "      <td>수도권기상청</td>\n",
              "    </tr>\n",
              "    <tr>\n",
              "      <th>1</th>\n",
              "      <td>부산광역시</td>\n",
              "      <td>159</td>\n",
              "      <td>부산</td>\n",
              "      <td>부산지방기상청</td>\n",
              "    </tr>\n",
              "    <tr>\n",
              "      <th>2</th>\n",
              "      <td>대구광역시</td>\n",
              "      <td>143</td>\n",
              "      <td>대구</td>\n",
              "      <td>대구지방기상청</td>\n",
              "    </tr>\n",
              "    <tr>\n",
              "      <th>3</th>\n",
              "      <td>인천광역시</td>\n",
              "      <td>112</td>\n",
              "      <td>인천</td>\n",
              "      <td>수도권기상청</td>\n",
              "    </tr>\n",
              "    <tr>\n",
              "      <th>4</th>\n",
              "      <td>광주광역시</td>\n",
              "      <td>156</td>\n",
              "      <td>광주</td>\n",
              "      <td>광주지방기상청</td>\n",
              "    </tr>\n",
              "    <tr>\n",
              "      <th>5</th>\n",
              "      <td>대전광역시</td>\n",
              "      <td>133</td>\n",
              "      <td>대전</td>\n",
              "      <td>대전지방기상청</td>\n",
              "    </tr>\n",
              "    <tr>\n",
              "      <th>6</th>\n",
              "      <td>울산광역시</td>\n",
              "      <td>152</td>\n",
              "      <td>울산</td>\n",
              "      <td>울산기상대</td>\n",
              "    </tr>\n",
              "    <tr>\n",
              "      <th>7</th>\n",
              "      <td>세종특별자치시</td>\n",
              "      <td>239</td>\n",
              "      <td>세종</td>\n",
              "      <td>대전지방기상청</td>\n",
              "    </tr>\n",
              "    <tr>\n",
              "      <th>8</th>\n",
              "      <td>경기도</td>\n",
              "      <td>119</td>\n",
              "      <td>수원</td>\n",
              "      <td>수도권기상청</td>\n",
              "    </tr>\n",
              "    <tr>\n",
              "      <th>9</th>\n",
              "      <td>강원도</td>\n",
              "      <td>104</td>\n",
              "      <td>북강릉</td>\n",
              "      <td>강원지방기상청</td>\n",
              "    </tr>\n",
              "    <tr>\n",
              "      <th>10</th>\n",
              "      <td>충북</td>\n",
              "      <td>131</td>\n",
              "      <td>청주</td>\n",
              "      <td>청주기상지청</td>\n",
              "    </tr>\n",
              "    <tr>\n",
              "      <th>11</th>\n",
              "      <td>충남</td>\n",
              "      <td>177</td>\n",
              "      <td>홍성</td>\n",
              "      <td>홍성기상대</td>\n",
              "    </tr>\n",
              "    <tr>\n",
              "      <th>12</th>\n",
              "      <td>전북</td>\n",
              "      <td>146</td>\n",
              "      <td>전주</td>\n",
              "      <td>전주기상지청</td>\n",
              "    </tr>\n",
              "    <tr>\n",
              "      <th>13</th>\n",
              "      <td>전남</td>\n",
              "      <td>168</td>\n",
              "      <td>여수</td>\n",
              "      <td>광주지방기상청</td>\n",
              "    </tr>\n",
              "    <tr>\n",
              "      <th>14</th>\n",
              "      <td>경북</td>\n",
              "      <td>136</td>\n",
              "      <td>안동</td>\n",
              "      <td>안동기상대</td>\n",
              "    </tr>\n",
              "    <tr>\n",
              "      <th>15</th>\n",
              "      <td>경남</td>\n",
              "      <td>155</td>\n",
              "      <td>창원</td>\n",
              "      <td>창원기상대</td>\n",
              "    </tr>\n",
              "    <tr>\n",
              "      <th>16</th>\n",
              "      <td>제주</td>\n",
              "      <td>184</td>\n",
              "      <td>제주</td>\n",
              "      <td>제주지방기상청</td>\n",
              "    </tr>\n",
              "  </tbody>\n",
              "</table>\n",
              "</div>"
            ],
            "text/plain": [
              "        시/도   지점  지점명     관리관서\n",
              "0     서울특별시  108   서울   수도권기상청\n",
              "1     부산광역시  159   부산  부산지방기상청\n",
              "2     대구광역시  143   대구  대구지방기상청\n",
              "3     인천광역시  112   인천   수도권기상청\n",
              "4     광주광역시  156   광주  광주지방기상청\n",
              "5     대전광역시  133   대전  대전지방기상청\n",
              "6     울산광역시  152   울산    울산기상대\n",
              "7   세종특별자치시  239   세종  대전지방기상청\n",
              "8       경기도  119   수원   수도권기상청\n",
              "9       강원도  104  북강릉  강원지방기상청\n",
              "10       충북  131   청주   청주기상지청\n",
              "11       충남  177   홍성    홍성기상대\n",
              "12       전북  146   전주   전주기상지청\n",
              "13       전남  168   여수  광주지방기상청\n",
              "14       경북  136   안동    안동기상대\n",
              "15       경남  155   창원    창원기상대\n",
              "16       제주  184   제주  제주지방기상청"
            ]
          },
          "metadata": {},
          "execution_count": 4
        }
      ]
    },
    {
      "cell_type": "code",
      "metadata": {
        "colab": {
          "base_uri": "https://localhost:8080/"
        },
        "id": "jC_0yP_kfTti",
        "outputId": "5b961580-68b0-4c70-8572-be9fe92542ab"
      },
      "source": [
        "gisang_dic = gisangchung[['시/도','지점']].set_index('지점').T.to_dict('index')\n",
        "gisang_dic = gisang_dic['시/도']\n",
        "gisang_dic"
      ],
      "execution_count": null,
      "outputs": [
        {
          "output_type": "execute_result",
          "data": {
            "text/plain": [
              "{104: '강원도',\n",
              " 108: '서울특별시',\n",
              " 112: '인천광역시',\n",
              " 119: '경기도',\n",
              " 131: '충북',\n",
              " 133: '대전광역시',\n",
              " 136: '경북',\n",
              " 143: '대구광역시',\n",
              " 146: '전북',\n",
              " 152: '울산광역시',\n",
              " 155: '경남',\n",
              " 156: '광주광역시',\n",
              " 159: '부산광역시',\n",
              " 168: '전남',\n",
              " 177: '충남',\n",
              " 184: '제주',\n",
              " 239: '세종특별자치시'}"
            ]
          },
          "metadata": {},
          "execution_count": 5
        }
      ]
    },
    {
      "cell_type": "code",
      "metadata": {
        "id": "loZHJCFHbQUa"
      },
      "source": [
        "import time"
      ],
      "execution_count": null,
      "outputs": []
    },
    {
      "cell_type": "code",
      "metadata": {
        "colab": {
          "base_uri": "https://localhost:8080/"
        },
        "id": "6gVI6ngJgyqb",
        "outputId": "a169a864-1995-44f6-9c10-05bea94a1cac"
      },
      "source": [
        "key = '****************'\n",
        "url = 'http://apis.data.go.kr/1360000/AsosHourlyInfoService/getWthrDataList'\n",
        "\n",
        "res_weather = []\n",
        "\n",
        "for i in range(0,len(gisang_dic)):\n",
        "    area = str(gisangchung['지점'][i])\n",
        "    print(gisang_dic[int(area)] + \" 데이터 수집 중...\")\n",
        "    for j in range(2,7):\n",
        "        startDt = \"20210\" + str(j) + \"01\"\n",
        "        endDt = \"20210\" + str(j+1) + \"01\"\n",
        "        \n",
        "        if j == 2:\n",
        "            numOfRows = '672'\n",
        "        else:\n",
        "            if j%2 == 0 :\n",
        "                numOfRows = '720'\n",
        "            else:\n",
        "                numOfRows = '744'\n",
        "\n",
        "        #url 설정\n",
        "        queryParams = '?' + urlencode({ quote_plus('ServiceKey') : key,\n",
        "                                        quote_plus('numOfRows') : numOfRows,\n",
        "                                        quote_plus('pageNo') : '1',\n",
        "                                        quote_plus('dataCd') : 'ASOS', \n",
        "                                        quote_plus('dateCd') : 'HR', \n",
        "                                        quote_plus('stnIds') : area,\n",
        "                                        quote_plus('endDt') : endDt,\n",
        "                                        quote_plus('endHh') : '01',\n",
        "                                        quote_plus('startHh') : '01', \n",
        "                                        quote_plus('startDt') : startDt\n",
        "                                        })\n",
        "        try:\n",
        "            request = requests.get(url + queryParams).content\n",
        "        except:\n",
        "            print(url + queryParams)\n",
        "            time.sleep(1)\n",
        "            request = requests.get(url + queryParams).content\n",
        "\n",
        "        r_xml = xmltodict.parse(request)\n",
        "        dict_data = r_xml['response']['body']['items']\n",
        "\n",
        "        if dict_data:\n",
        "            dict_data = dict_data['item']\n",
        "            if str(type(dict_data)) == \"<class 'list'>\" :\n",
        "                for i in range(0,len(dict_data)):\n",
        "                    res_weather.append(list(dict_data[i].values()))\n",
        "            else:\n",
        "                res_weather.append(list(dict_data.values()))\n",
        "            # print(res_weather)\n",
        "\n",
        "\n",
        "df_weather = pd.DataFrame(res_weather).loc[:,[0,3,4]]\n",
        "df_weather.columns=['시간', '지역명', '기온']"
      ],
      "execution_count": null,
      "outputs": [
        {
          "output_type": "stream",
          "name": "stdout",
          "text": [
            "서울특별시 데이터 수집 중...\n",
            "http://apis.data.go.kr/1360000/AsosHourlyInfoService/getWthrDataList?ServiceKey=sNjZTCadAcfeyftEc2tj6A1m2mD0pdjn34g6e8sOPcB0cpNKv8QSJFQnmkeP18u1jHZsDikb4aJ0WPPI7MNH%2Bw%3D%3D&numOfRows=720&pageNo=1&dataCd=ASOS&dateCd=HR&stnIds=108&endDt=20210701&endHh=01&startHh=01&startDt=20210601\n",
            "부산광역시 데이터 수집 중...\n",
            "대구광역시 데이터 수집 중...\n",
            "http://apis.data.go.kr/1360000/AsosHourlyInfoService/getWthrDataList?ServiceKey=sNjZTCadAcfeyftEc2tj6A1m2mD0pdjn34g6e8sOPcB0cpNKv8QSJFQnmkeP18u1jHZsDikb4aJ0WPPI7MNH%2Bw%3D%3D&numOfRows=720&pageNo=1&dataCd=ASOS&dateCd=HR&stnIds=143&endDt=20210501&endHh=01&startHh=01&startDt=20210401\n",
            "인천광역시 데이터 수집 중...\n",
            "광주광역시 데이터 수집 중...\n",
            "대전광역시 데이터 수집 중...\n",
            "http://apis.data.go.kr/1360000/AsosHourlyInfoService/getWthrDataList?ServiceKey=sNjZTCadAcfeyftEc2tj6A1m2mD0pdjn34g6e8sOPcB0cpNKv8QSJFQnmkeP18u1jHZsDikb4aJ0WPPI7MNH%2Bw%3D%3D&numOfRows=720&pageNo=1&dataCd=ASOS&dateCd=HR&stnIds=133&endDt=20210501&endHh=01&startHh=01&startDt=20210401\n",
            "울산광역시 데이터 수집 중...\n",
            "세종특별자치시 데이터 수집 중...\n",
            "경기도 데이터 수집 중...\n",
            "강원도 데이터 수집 중...\n",
            "http://apis.data.go.kr/1360000/AsosHourlyInfoService/getWthrDataList?ServiceKey=sNjZTCadAcfeyftEc2tj6A1m2mD0pdjn34g6e8sOPcB0cpNKv8QSJFQnmkeP18u1jHZsDikb4aJ0WPPI7MNH%2Bw%3D%3D&numOfRows=744&pageNo=1&dataCd=ASOS&dateCd=HR&stnIds=104&endDt=20210601&endHh=01&startHh=01&startDt=20210501\n",
            "충북 데이터 수집 중...\n",
            "충남 데이터 수집 중...\n",
            "http://apis.data.go.kr/1360000/AsosHourlyInfoService/getWthrDataList?ServiceKey=sNjZTCadAcfeyftEc2tj6A1m2mD0pdjn34g6e8sOPcB0cpNKv8QSJFQnmkeP18u1jHZsDikb4aJ0WPPI7MNH%2Bw%3D%3D&numOfRows=744&pageNo=1&dataCd=ASOS&dateCd=HR&stnIds=177&endDt=20210401&endHh=01&startHh=01&startDt=20210301\n",
            "전북 데이터 수집 중...\n",
            "http://apis.data.go.kr/1360000/AsosHourlyInfoService/getWthrDataList?ServiceKey=sNjZTCadAcfeyftEc2tj6A1m2mD0pdjn34g6e8sOPcB0cpNKv8QSJFQnmkeP18u1jHZsDikb4aJ0WPPI7MNH%2Bw%3D%3D&numOfRows=672&pageNo=1&dataCd=ASOS&dateCd=HR&stnIds=146&endDt=20210301&endHh=01&startHh=01&startDt=20210201\n",
            "http://apis.data.go.kr/1360000/AsosHourlyInfoService/getWthrDataList?ServiceKey=sNjZTCadAcfeyftEc2tj6A1m2mD0pdjn34g6e8sOPcB0cpNKv8QSJFQnmkeP18u1jHZsDikb4aJ0WPPI7MNH%2Bw%3D%3D&numOfRows=744&pageNo=1&dataCd=ASOS&dateCd=HR&stnIds=146&endDt=20210401&endHh=01&startHh=01&startDt=20210301\n",
            "전남 데이터 수집 중...\n",
            "http://apis.data.go.kr/1360000/AsosHourlyInfoService/getWthrDataList?ServiceKey=sNjZTCadAcfeyftEc2tj6A1m2mD0pdjn34g6e8sOPcB0cpNKv8QSJFQnmkeP18u1jHZsDikb4aJ0WPPI7MNH%2Bw%3D%3D&numOfRows=672&pageNo=1&dataCd=ASOS&dateCd=HR&stnIds=168&endDt=20210301&endHh=01&startHh=01&startDt=20210201\n",
            "http://apis.data.go.kr/1360000/AsosHourlyInfoService/getWthrDataList?ServiceKey=sNjZTCadAcfeyftEc2tj6A1m2mD0pdjn34g6e8sOPcB0cpNKv8QSJFQnmkeP18u1jHZsDikb4aJ0WPPI7MNH%2Bw%3D%3D&numOfRows=720&pageNo=1&dataCd=ASOS&dateCd=HR&stnIds=168&endDt=20210501&endHh=01&startHh=01&startDt=20210401\n",
            "http://apis.data.go.kr/1360000/AsosHourlyInfoService/getWthrDataList?ServiceKey=sNjZTCadAcfeyftEc2tj6A1m2mD0pdjn34g6e8sOPcB0cpNKv8QSJFQnmkeP18u1jHZsDikb4aJ0WPPI7MNH%2Bw%3D%3D&numOfRows=744&pageNo=1&dataCd=ASOS&dateCd=HR&stnIds=168&endDt=20210601&endHh=01&startHh=01&startDt=20210501\n",
            "경북 데이터 수집 중...\n",
            "http://apis.data.go.kr/1360000/AsosHourlyInfoService/getWthrDataList?ServiceKey=sNjZTCadAcfeyftEc2tj6A1m2mD0pdjn34g6e8sOPcB0cpNKv8QSJFQnmkeP18u1jHZsDikb4aJ0WPPI7MNH%2Bw%3D%3D&numOfRows=744&pageNo=1&dataCd=ASOS&dateCd=HR&stnIds=136&endDt=20210601&endHh=01&startHh=01&startDt=20210501\n",
            "경남 데이터 수집 중...\n",
            "제주 데이터 수집 중...\n"
          ]
        }
      ]
    },
    {
      "cell_type": "code",
      "metadata": {
        "colab": {
          "base_uri": "https://localhost:8080/",
          "height": 418
        },
        "id": "ciMLjfOZYqYg",
        "outputId": "278d4c78-7dd1-4d50-d7d2-6dcdd1fe2d61"
      },
      "source": [
        "df_weather"
      ],
      "execution_count": null,
      "outputs": [
        {
          "output_type": "execute_result",
          "data": {
            "text/html": [
              "<div>\n",
              "<style scoped>\n",
              "    .dataframe tbody tr th:only-of-type {\n",
              "        vertical-align: middle;\n",
              "    }\n",
              "\n",
              "    .dataframe tbody tr th {\n",
              "        vertical-align: top;\n",
              "    }\n",
              "\n",
              "    .dataframe thead th {\n",
              "        text-align: right;\n",
              "    }\n",
              "</style>\n",
              "<table border=\"1\" class=\"dataframe\">\n",
              "  <thead>\n",
              "    <tr style=\"text-align: right;\">\n",
              "      <th></th>\n",
              "      <th>시간</th>\n",
              "      <th>지역명</th>\n",
              "      <th>기온</th>\n",
              "    </tr>\n",
              "  </thead>\n",
              "  <tbody>\n",
              "    <tr>\n",
              "      <th>0</th>\n",
              "      <td>2021-02-01 01:00</td>\n",
              "      <td>서울</td>\n",
              "      <td>6.3</td>\n",
              "    </tr>\n",
              "    <tr>\n",
              "      <th>1</th>\n",
              "      <td>2021-02-01 02:00</td>\n",
              "      <td>서울</td>\n",
              "      <td>6.2</td>\n",
              "    </tr>\n",
              "    <tr>\n",
              "      <th>2</th>\n",
              "      <td>2021-02-01 03:00</td>\n",
              "      <td>서울</td>\n",
              "      <td>5.7</td>\n",
              "    </tr>\n",
              "    <tr>\n",
              "      <th>3</th>\n",
              "      <td>2021-02-01 04:00</td>\n",
              "      <td>서울</td>\n",
              "      <td>5.7</td>\n",
              "    </tr>\n",
              "    <tr>\n",
              "      <th>4</th>\n",
              "      <td>2021-02-01 05:00</td>\n",
              "      <td>서울</td>\n",
              "      <td>5.6</td>\n",
              "    </tr>\n",
              "    <tr>\n",
              "      <th>...</th>\n",
              "      <td>...</td>\n",
              "      <td>...</td>\n",
              "      <td>...</td>\n",
              "    </tr>\n",
              "    <tr>\n",
              "      <th>61195</th>\n",
              "      <td>2021-06-30 20:00</td>\n",
              "      <td>제주</td>\n",
              "      <td>24.7</td>\n",
              "    </tr>\n",
              "    <tr>\n",
              "      <th>61196</th>\n",
              "      <td>2021-06-30 21:00</td>\n",
              "      <td>제주</td>\n",
              "      <td>24.3</td>\n",
              "    </tr>\n",
              "    <tr>\n",
              "      <th>61197</th>\n",
              "      <td>2021-06-30 22:00</td>\n",
              "      <td>제주</td>\n",
              "      <td>24.4</td>\n",
              "    </tr>\n",
              "    <tr>\n",
              "      <th>61198</th>\n",
              "      <td>2021-06-30 23:00</td>\n",
              "      <td>제주</td>\n",
              "      <td>24.2</td>\n",
              "    </tr>\n",
              "    <tr>\n",
              "      <th>61199</th>\n",
              "      <td>2021-07-01 00:00</td>\n",
              "      <td>제주</td>\n",
              "      <td>23.9</td>\n",
              "    </tr>\n",
              "  </tbody>\n",
              "</table>\n",
              "<p>61200 rows × 3 columns</p>\n",
              "</div>"
            ],
            "text/plain": [
              "                     시간 지역명    기온\n",
              "0      2021-02-01 01:00  서울   6.3\n",
              "1      2021-02-01 02:00  서울   6.2\n",
              "2      2021-02-01 03:00  서울   5.7\n",
              "3      2021-02-01 04:00  서울   5.7\n",
              "4      2021-02-01 05:00  서울   5.6\n",
              "...                 ...  ..   ...\n",
              "61195  2021-06-30 20:00  제주  24.7\n",
              "61196  2021-06-30 21:00  제주  24.3\n",
              "61197  2021-06-30 22:00  제주  24.4\n",
              "61198  2021-06-30 23:00  제주  24.2\n",
              "61199  2021-07-01 00:00  제주  23.9\n",
              "\n",
              "[61200 rows x 3 columns]"
            ]
          },
          "metadata": {},
          "execution_count": 10
        }
      ]
    },
    {
      "cell_type": "code",
      "metadata": {
        "colab": {
          "base_uri": "https://localhost:8080/",
          "height": 418
        },
        "id": "QfEYiNnIG7Hv",
        "outputId": "34a0d38e-11da-454a-96cf-fa7ecf47ae20"
      },
      "source": [
        "df_weather.reset_index(drop=True,inplace=True)\n",
        "df_weather"
      ],
      "execution_count": null,
      "outputs": [
        {
          "output_type": "execute_result",
          "data": {
            "text/html": [
              "<div>\n",
              "<style scoped>\n",
              "    .dataframe tbody tr th:only-of-type {\n",
              "        vertical-align: middle;\n",
              "    }\n",
              "\n",
              "    .dataframe tbody tr th {\n",
              "        vertical-align: top;\n",
              "    }\n",
              "\n",
              "    .dataframe thead th {\n",
              "        text-align: right;\n",
              "    }\n",
              "</style>\n",
              "<table border=\"1\" class=\"dataframe\">\n",
              "  <thead>\n",
              "    <tr style=\"text-align: right;\">\n",
              "      <th></th>\n",
              "      <th>시간</th>\n",
              "      <th>지역명</th>\n",
              "      <th>기온</th>\n",
              "    </tr>\n",
              "  </thead>\n",
              "  <tbody>\n",
              "    <tr>\n",
              "      <th>0</th>\n",
              "      <td>2021-02-01 01:00</td>\n",
              "      <td>서울</td>\n",
              "      <td>6.3</td>\n",
              "    </tr>\n",
              "    <tr>\n",
              "      <th>1</th>\n",
              "      <td>2021-02-01 02:00</td>\n",
              "      <td>서울</td>\n",
              "      <td>6.2</td>\n",
              "    </tr>\n",
              "    <tr>\n",
              "      <th>2</th>\n",
              "      <td>2021-02-01 03:00</td>\n",
              "      <td>서울</td>\n",
              "      <td>5.7</td>\n",
              "    </tr>\n",
              "    <tr>\n",
              "      <th>3</th>\n",
              "      <td>2021-02-01 04:00</td>\n",
              "      <td>서울</td>\n",
              "      <td>5.7</td>\n",
              "    </tr>\n",
              "    <tr>\n",
              "      <th>4</th>\n",
              "      <td>2021-02-01 05:00</td>\n",
              "      <td>서울</td>\n",
              "      <td>5.6</td>\n",
              "    </tr>\n",
              "    <tr>\n",
              "      <th>...</th>\n",
              "      <td>...</td>\n",
              "      <td>...</td>\n",
              "      <td>...</td>\n",
              "    </tr>\n",
              "    <tr>\n",
              "      <th>61195</th>\n",
              "      <td>2021-06-30 20:00</td>\n",
              "      <td>제주</td>\n",
              "      <td>24.7</td>\n",
              "    </tr>\n",
              "    <tr>\n",
              "      <th>61196</th>\n",
              "      <td>2021-06-30 21:00</td>\n",
              "      <td>제주</td>\n",
              "      <td>24.3</td>\n",
              "    </tr>\n",
              "    <tr>\n",
              "      <th>61197</th>\n",
              "      <td>2021-06-30 22:00</td>\n",
              "      <td>제주</td>\n",
              "      <td>24.4</td>\n",
              "    </tr>\n",
              "    <tr>\n",
              "      <th>61198</th>\n",
              "      <td>2021-06-30 23:00</td>\n",
              "      <td>제주</td>\n",
              "      <td>24.2</td>\n",
              "    </tr>\n",
              "    <tr>\n",
              "      <th>61199</th>\n",
              "      <td>2021-07-01 00:00</td>\n",
              "      <td>제주</td>\n",
              "      <td>23.9</td>\n",
              "    </tr>\n",
              "  </tbody>\n",
              "</table>\n",
              "<p>61200 rows × 3 columns</p>\n",
              "</div>"
            ],
            "text/plain": [
              "                     시간 지역명    기온\n",
              "0      2021-02-01 01:00  서울   6.3\n",
              "1      2021-02-01 02:00  서울   6.2\n",
              "2      2021-02-01 03:00  서울   5.7\n",
              "3      2021-02-01 04:00  서울   5.7\n",
              "4      2021-02-01 05:00  서울   5.6\n",
              "...                 ...  ..   ...\n",
              "61195  2021-06-30 20:00  제주  24.7\n",
              "61196  2021-06-30 21:00  제주  24.3\n",
              "61197  2021-06-30 22:00  제주  24.4\n",
              "61198  2021-06-30 23:00  제주  24.2\n",
              "61199  2021-07-01 00:00  제주  23.9\n",
              "\n",
              "[61200 rows x 3 columns]"
            ]
          },
          "metadata": {},
          "execution_count": 11
        }
      ]
    },
    {
      "cell_type": "code",
      "metadata": {
        "id": "IehiqRseiHic"
      },
      "source": [
        "# 형변환\n",
        "df_weather['시간'] = df_weather['시간'].astype(\"string\")"
      ],
      "execution_count": null,
      "outputs": []
    },
    {
      "cell_type": "code",
      "metadata": {
        "id": "JljpHtdiiNSx"
      },
      "source": [
        "dateArr = []\n",
        "timeArr = []\n",
        "for i in range(0,len(df_weather)):\n",
        "    dateArr.append((df_weather['시간'][i].split(' '))[0])\n",
        "    timstr=(df_weather['시간'][i].split(' '))[1]\n",
        "    timeArr.append(int(timstr.split(':')[0]))\n",
        "df_weather['날짜'] = dateArr\n",
        "df_weather['시간'] = timeArr"
      ],
      "execution_count": null,
      "outputs": []
    },
    {
      "cell_type": "code",
      "metadata": {
        "colab": {
          "base_uri": "https://localhost:8080/",
          "height": 418
        },
        "id": "WRe4grKZpWO1",
        "outputId": "68a16c07-d1ab-4b59-8d1b-b0642bfbdfcd"
      },
      "source": [
        "df_weather = df_weather[['날짜','시간','지역명','기온']];df_weather"
      ],
      "execution_count": null,
      "outputs": [
        {
          "output_type": "execute_result",
          "data": {
            "text/html": [
              "<div>\n",
              "<style scoped>\n",
              "    .dataframe tbody tr th:only-of-type {\n",
              "        vertical-align: middle;\n",
              "    }\n",
              "\n",
              "    .dataframe tbody tr th {\n",
              "        vertical-align: top;\n",
              "    }\n",
              "\n",
              "    .dataframe thead th {\n",
              "        text-align: right;\n",
              "    }\n",
              "</style>\n",
              "<table border=\"1\" class=\"dataframe\">\n",
              "  <thead>\n",
              "    <tr style=\"text-align: right;\">\n",
              "      <th></th>\n",
              "      <th>날짜</th>\n",
              "      <th>시간</th>\n",
              "      <th>지역명</th>\n",
              "      <th>기온</th>\n",
              "    </tr>\n",
              "  </thead>\n",
              "  <tbody>\n",
              "    <tr>\n",
              "      <th>0</th>\n",
              "      <td>2021-02-01</td>\n",
              "      <td>1</td>\n",
              "      <td>서울</td>\n",
              "      <td>6.3</td>\n",
              "    </tr>\n",
              "    <tr>\n",
              "      <th>1</th>\n",
              "      <td>2021-02-01</td>\n",
              "      <td>2</td>\n",
              "      <td>서울</td>\n",
              "      <td>6.2</td>\n",
              "    </tr>\n",
              "    <tr>\n",
              "      <th>2</th>\n",
              "      <td>2021-02-01</td>\n",
              "      <td>3</td>\n",
              "      <td>서울</td>\n",
              "      <td>5.7</td>\n",
              "    </tr>\n",
              "    <tr>\n",
              "      <th>3</th>\n",
              "      <td>2021-02-01</td>\n",
              "      <td>4</td>\n",
              "      <td>서울</td>\n",
              "      <td>5.7</td>\n",
              "    </tr>\n",
              "    <tr>\n",
              "      <th>4</th>\n",
              "      <td>2021-02-01</td>\n",
              "      <td>5</td>\n",
              "      <td>서울</td>\n",
              "      <td>5.6</td>\n",
              "    </tr>\n",
              "    <tr>\n",
              "      <th>...</th>\n",
              "      <td>...</td>\n",
              "      <td>...</td>\n",
              "      <td>...</td>\n",
              "      <td>...</td>\n",
              "    </tr>\n",
              "    <tr>\n",
              "      <th>61195</th>\n",
              "      <td>2021-06-30</td>\n",
              "      <td>20</td>\n",
              "      <td>제주</td>\n",
              "      <td>24.7</td>\n",
              "    </tr>\n",
              "    <tr>\n",
              "      <th>61196</th>\n",
              "      <td>2021-06-30</td>\n",
              "      <td>21</td>\n",
              "      <td>제주</td>\n",
              "      <td>24.3</td>\n",
              "    </tr>\n",
              "    <tr>\n",
              "      <th>61197</th>\n",
              "      <td>2021-06-30</td>\n",
              "      <td>22</td>\n",
              "      <td>제주</td>\n",
              "      <td>24.4</td>\n",
              "    </tr>\n",
              "    <tr>\n",
              "      <th>61198</th>\n",
              "      <td>2021-06-30</td>\n",
              "      <td>23</td>\n",
              "      <td>제주</td>\n",
              "      <td>24.2</td>\n",
              "    </tr>\n",
              "    <tr>\n",
              "      <th>61199</th>\n",
              "      <td>2021-07-01</td>\n",
              "      <td>0</td>\n",
              "      <td>제주</td>\n",
              "      <td>23.9</td>\n",
              "    </tr>\n",
              "  </tbody>\n",
              "</table>\n",
              "<p>61200 rows × 4 columns</p>\n",
              "</div>"
            ],
            "text/plain": [
              "               날짜  시간 지역명    기온\n",
              "0      2021-02-01   1  서울   6.3\n",
              "1      2021-02-01   2  서울   6.2\n",
              "2      2021-02-01   3  서울   5.7\n",
              "3      2021-02-01   4  서울   5.7\n",
              "4      2021-02-01   5  서울   5.6\n",
              "...           ...  ..  ..   ...\n",
              "61195  2021-06-30  20  제주  24.7\n",
              "61196  2021-06-30  21  제주  24.3\n",
              "61197  2021-06-30  22  제주  24.4\n",
              "61198  2021-06-30  23  제주  24.2\n",
              "61199  2021-07-01   0  제주  23.9\n",
              "\n",
              "[61200 rows x 4 columns]"
            ]
          },
          "metadata": {},
          "execution_count": 15
        }
      ]
    },
    {
      "cell_type": "code",
      "metadata": {
        "id": "KzODl8Vqs6Bj"
      },
      "source": [
        "df_weather.to_csv(\"/content/drive/MyDrive/예측 모델링/Data/시도별_기상데이터.csv\",encoding='cp949')"
      ],
      "execution_count": null,
      "outputs": []
    },
    {
      "cell_type": "markdown",
      "metadata": {
        "id": "9IJq-fLmTfbD"
      },
      "source": [
        "# ***특일 정보 수집(공휴일)***"
      ]
    },
    {
      "cell_type": "code",
      "metadata": {
        "colab": {
          "base_uri": "https://localhost:8080/"
        },
        "id": "J6h8Fb2bsJDU",
        "outputId": "3915b3a3-787a-4ee5-f32f-2e16736a20da"
      },
      "source": [
        "key = '****************'\n",
        "url = 'http://apis.data.go.kr/B090041/openapi/service/SpcdeInfoService/getHoliDeInfo'\n",
        "\n",
        "res_hyuil = []\n",
        "\n",
        "for i in range(2, 7):\n",
        "    Dt = '0' + str(i)\n",
        "    print(i, '월 데이터 수집 중...')\n",
        "\n",
        "    #url 설정\n",
        "    queryParams = '?' + urlencode({quote_plus('solYear') : '2021',\n",
        "                                   quote_plus('solMonth') : Dt,\n",
        "                                   quote_plus('ServiceKey') : key\n",
        "                                    })\n",
        "          \n",
        "    request = requests.get(url + queryParams).content\n",
        "    r_xml = xmltodict.parse(request)\n",
        "    dict_data = r_xml['response']['body']['items']\n",
        "    \n",
        "    if dict_data:\n",
        "        dict_data = dict_data['item']\n",
        "        if str(type(dict_data)) == \"<class 'list'>\" :\n",
        "            for i in range(0,len(dict_data)):\n",
        "                res_hyuil.append(list(dict_data[i].values()))\n",
        "        else:\n",
        "            res_hyuil.append(list(dict_data.values()))\n",
        "\n",
        "\n",
        "df_holiday = pd.DataFrame(res_hyuil).loc[:,[3,1,2]]\n",
        "df_holiday.columns=['날짜','명칭','휴일여부']"
      ],
      "execution_count": null,
      "outputs": [
        {
          "output_type": "stream",
          "name": "stdout",
          "text": [
            "2 월 데이터 수집 중...\n",
            "3 월 데이터 수집 중...\n",
            "4 월 데이터 수집 중...\n",
            "5 월 데이터 수집 중...\n",
            "6 월 데이터 수집 중...\n"
          ]
        }
      ]
    },
    {
      "cell_type": "code",
      "metadata": {
        "colab": {
          "base_uri": "https://localhost:8080/",
          "height": 265
        },
        "id": "-OnzjvE5M8AR",
        "outputId": "aaa26586-ba0e-4f44-b81a-4e3fe3a9be13"
      },
      "source": [
        "df_holiday"
      ],
      "execution_count": null,
      "outputs": [
        {
          "output_type": "execute_result",
          "data": {
            "text/html": [
              "<div>\n",
              "<style scoped>\n",
              "    .dataframe tbody tr th:only-of-type {\n",
              "        vertical-align: middle;\n",
              "    }\n",
              "\n",
              "    .dataframe tbody tr th {\n",
              "        vertical-align: top;\n",
              "    }\n",
              "\n",
              "    .dataframe thead th {\n",
              "        text-align: right;\n",
              "    }\n",
              "</style>\n",
              "<table border=\"1\" class=\"dataframe\">\n",
              "  <thead>\n",
              "    <tr style=\"text-align: right;\">\n",
              "      <th></th>\n",
              "      <th>날짜</th>\n",
              "      <th>명칭</th>\n",
              "      <th>휴일여부</th>\n",
              "    </tr>\n",
              "  </thead>\n",
              "  <tbody>\n",
              "    <tr>\n",
              "      <th>0</th>\n",
              "      <td>20210211</td>\n",
              "      <td>설날</td>\n",
              "      <td>Y</td>\n",
              "    </tr>\n",
              "    <tr>\n",
              "      <th>1</th>\n",
              "      <td>20210212</td>\n",
              "      <td>설날</td>\n",
              "      <td>Y</td>\n",
              "    </tr>\n",
              "    <tr>\n",
              "      <th>2</th>\n",
              "      <td>20210213</td>\n",
              "      <td>설날</td>\n",
              "      <td>Y</td>\n",
              "    </tr>\n",
              "    <tr>\n",
              "      <th>3</th>\n",
              "      <td>20210301</td>\n",
              "      <td>삼일절</td>\n",
              "      <td>Y</td>\n",
              "    </tr>\n",
              "    <tr>\n",
              "      <th>4</th>\n",
              "      <td>20210505</td>\n",
              "      <td>어린이날</td>\n",
              "      <td>Y</td>\n",
              "    </tr>\n",
              "    <tr>\n",
              "      <th>5</th>\n",
              "      <td>20210519</td>\n",
              "      <td>부처님오신날</td>\n",
              "      <td>Y</td>\n",
              "    </tr>\n",
              "    <tr>\n",
              "      <th>6</th>\n",
              "      <td>20210606</td>\n",
              "      <td>현충일</td>\n",
              "      <td>Y</td>\n",
              "    </tr>\n",
              "  </tbody>\n",
              "</table>\n",
              "</div>"
            ],
            "text/plain": [
              "         날짜      명칭 휴일여부\n",
              "0  20210211      설날    Y\n",
              "1  20210212      설날    Y\n",
              "2  20210213      설날    Y\n",
              "3  20210301     삼일절    Y\n",
              "4  20210505    어린이날    Y\n",
              "5  20210519  부처님오신날    Y\n",
              "6  20210606     현충일    Y"
            ]
          },
          "metadata": {},
          "execution_count": 19
        }
      ]
    },
    {
      "cell_type": "code",
      "metadata": {
        "id": "EnacawojcsRZ"
      },
      "source": [
        "df_holiday['날짜'] = df_holiday['날짜'].astype(\"string\")"
      ],
      "execution_count": null,
      "outputs": []
    },
    {
      "cell_type": "code",
      "metadata": {
        "id": "57Z1yBl6c7nO"
      },
      "source": [
        "from datetime import datetime\n",
        "format = '%Y-%m-%d'\n",
        "dateArr = []\n",
        "for i in range(0,len(df_holiday)) :\n",
        "    date = datetime.strptime(df_holiday['날짜'][i], '%Y%m%d')\n",
        "    str_date = datetime.strftime(date,format)\n",
        "    dateArr.append(str_date)\n",
        "df_holiday['날짜'] = dateArr"
      ],
      "execution_count": null,
      "outputs": []
    },
    {
      "cell_type": "code",
      "metadata": {
        "colab": {
          "base_uri": "https://localhost:8080/",
          "height": 265
        },
        "id": "XgKZ-ANeeS40",
        "outputId": "907d0d65-e00a-4d37-ef83-313751b6d6c6"
      },
      "source": [
        "df_holiday"
      ],
      "execution_count": null,
      "outputs": [
        {
          "output_type": "execute_result",
          "data": {
            "text/html": [
              "<div>\n",
              "<style scoped>\n",
              "    .dataframe tbody tr th:only-of-type {\n",
              "        vertical-align: middle;\n",
              "    }\n",
              "\n",
              "    .dataframe tbody tr th {\n",
              "        vertical-align: top;\n",
              "    }\n",
              "\n",
              "    .dataframe thead th {\n",
              "        text-align: right;\n",
              "    }\n",
              "</style>\n",
              "<table border=\"1\" class=\"dataframe\">\n",
              "  <thead>\n",
              "    <tr style=\"text-align: right;\">\n",
              "      <th></th>\n",
              "      <th>날짜</th>\n",
              "      <th>명칭</th>\n",
              "      <th>휴일여부</th>\n",
              "    </tr>\n",
              "  </thead>\n",
              "  <tbody>\n",
              "    <tr>\n",
              "      <th>0</th>\n",
              "      <td>2021-02-11</td>\n",
              "      <td>설날</td>\n",
              "      <td>Y</td>\n",
              "    </tr>\n",
              "    <tr>\n",
              "      <th>1</th>\n",
              "      <td>2021-02-12</td>\n",
              "      <td>설날</td>\n",
              "      <td>Y</td>\n",
              "    </tr>\n",
              "    <tr>\n",
              "      <th>2</th>\n",
              "      <td>2021-02-13</td>\n",
              "      <td>설날</td>\n",
              "      <td>Y</td>\n",
              "    </tr>\n",
              "    <tr>\n",
              "      <th>3</th>\n",
              "      <td>2021-03-01</td>\n",
              "      <td>삼일절</td>\n",
              "      <td>Y</td>\n",
              "    </tr>\n",
              "    <tr>\n",
              "      <th>4</th>\n",
              "      <td>2021-05-05</td>\n",
              "      <td>어린이날</td>\n",
              "      <td>Y</td>\n",
              "    </tr>\n",
              "    <tr>\n",
              "      <th>5</th>\n",
              "      <td>2021-05-19</td>\n",
              "      <td>부처님오신날</td>\n",
              "      <td>Y</td>\n",
              "    </tr>\n",
              "    <tr>\n",
              "      <th>6</th>\n",
              "      <td>2021-06-06</td>\n",
              "      <td>현충일</td>\n",
              "      <td>Y</td>\n",
              "    </tr>\n",
              "  </tbody>\n",
              "</table>\n",
              "</div>"
            ],
            "text/plain": [
              "           날짜      명칭 휴일여부\n",
              "0  2021-02-11      설날    Y\n",
              "1  2021-02-12      설날    Y\n",
              "2  2021-02-13      설날    Y\n",
              "3  2021-03-01     삼일절    Y\n",
              "4  2021-05-05    어린이날    Y\n",
              "5  2021-05-19  부처님오신날    Y\n",
              "6  2021-06-06     현충일    Y"
            ]
          },
          "metadata": {},
          "execution_count": 22
        }
      ]
    },
    {
      "cell_type": "code",
      "metadata": {
        "id": "Bhs0Yrf9Atxp"
      },
      "source": [
        "df_holiday.to_csv(\"/content/drive/MyDrive/예측 모델링/Data/공휴일데이터.csv\",encoding='cp949')"
      ],
      "execution_count": null,
      "outputs": []
    },
    {
      "cell_type": "markdown",
      "metadata": {
        "id": "DPhPnWlI7ewK"
      },
      "source": [
        "# ***코로나 시,도 발생현황***"
      ]
    },
    {
      "cell_type": "code",
      "metadata": {
        "colab": {
          "base_uri": "https://localhost:8080/",
          "height": 418
        },
        "id": "cibpTPjS7oQg",
        "outputId": "ff7fb00a-018d-4a4b-d4ce-19646e82dd80"
      },
      "source": [
        "key = '***************'\n",
        "url = 'http://openapi.data.go.kr/openapi/service/rest/Covid19/getCovid19SidoInfStateJson'\n",
        "\n",
        "#url 설정\n",
        "queryParams = '?' + urlencode({quote_plus('ServiceKey') : key,\n",
        "                               quote_plus('pageNo') : '1',\n",
        "                               quote_plus('numOfRows') : '100',\n",
        "                               quote_plus('startCreateDt') : '20210201',\n",
        "                               quote_plus('endCreateDt') : '20210630'\n",
        "                               })\n",
        "        \n",
        "\n",
        "request = requests.get(url + queryParams).content\n",
        "r_xml = xmltodict.parse(request)\n",
        "dict_data = r_xml['response']['body']['items']['item']\n",
        "\n",
        "df = pd.DataFrame(dict_data)\n",
        "df_corona = df[['createDt', 'gubun','localOccCnt']]\n",
        "df_corona.columns = ['기준일시', '지역', '지역발생수']\n",
        "df_corona"
      ],
      "execution_count": null,
      "outputs": [
        {
          "output_type": "execute_result",
          "data": {
            "text/html": [
              "<div>\n",
              "<style scoped>\n",
              "    .dataframe tbody tr th:only-of-type {\n",
              "        vertical-align: middle;\n",
              "    }\n",
              "\n",
              "    .dataframe tbody tr th {\n",
              "        vertical-align: top;\n",
              "    }\n",
              "\n",
              "    .dataframe thead th {\n",
              "        text-align: right;\n",
              "    }\n",
              "</style>\n",
              "<table border=\"1\" class=\"dataframe\">\n",
              "  <thead>\n",
              "    <tr style=\"text-align: right;\">\n",
              "      <th></th>\n",
              "      <th>기준일시</th>\n",
              "      <th>지역</th>\n",
              "      <th>지역발생수</th>\n",
              "    </tr>\n",
              "  </thead>\n",
              "  <tbody>\n",
              "    <tr>\n",
              "      <th>0</th>\n",
              "      <td>2021-06-30 09:00:00.000</td>\n",
              "      <td>합계</td>\n",
              "      <td>759</td>\n",
              "    </tr>\n",
              "    <tr>\n",
              "      <th>1</th>\n",
              "      <td>2021-06-30 09:00:00.000</td>\n",
              "      <td>서울</td>\n",
              "      <td>368</td>\n",
              "    </tr>\n",
              "    <tr>\n",
              "      <th>2</th>\n",
              "      <td>2021-06-30 09:00:00.000</td>\n",
              "      <td>부산</td>\n",
              "      <td>13</td>\n",
              "    </tr>\n",
              "    <tr>\n",
              "      <th>3</th>\n",
              "      <td>2021-06-30 09:00:00.000</td>\n",
              "      <td>대구</td>\n",
              "      <td>11</td>\n",
              "    </tr>\n",
              "    <tr>\n",
              "      <th>4</th>\n",
              "      <td>2021-06-30 09:00:00.000</td>\n",
              "      <td>인천</td>\n",
              "      <td>29</td>\n",
              "    </tr>\n",
              "    <tr>\n",
              "      <th>...</th>\n",
              "      <td>...</td>\n",
              "      <td>...</td>\n",
              "      <td>...</td>\n",
              "    </tr>\n",
              "    <tr>\n",
              "      <th>2845</th>\n",
              "      <td>2021-02-01 09:00:00.000</td>\n",
              "      <td>전남</td>\n",
              "      <td>0</td>\n",
              "    </tr>\n",
              "    <tr>\n",
              "      <th>2846</th>\n",
              "      <td>2021-02-01 09:00:00.000</td>\n",
              "      <td>경북</td>\n",
              "      <td>4</td>\n",
              "    </tr>\n",
              "    <tr>\n",
              "      <th>2847</th>\n",
              "      <td>2021-02-01 09:00:00.000</td>\n",
              "      <td>경남</td>\n",
              "      <td>4</td>\n",
              "    </tr>\n",
              "    <tr>\n",
              "      <th>2848</th>\n",
              "      <td>2021-02-01 09:00:00.000</td>\n",
              "      <td>제주</td>\n",
              "      <td>0</td>\n",
              "    </tr>\n",
              "    <tr>\n",
              "      <th>2849</th>\n",
              "      <td>2021-02-01 09:00:00.000</td>\n",
              "      <td>검역</td>\n",
              "      <td>0</td>\n",
              "    </tr>\n",
              "  </tbody>\n",
              "</table>\n",
              "<p>2850 rows × 3 columns</p>\n",
              "</div>"
            ],
            "text/plain": [
              "                         기준일시  지역 지역발생수\n",
              "0     2021-06-30 09:00:00.000  합계   759\n",
              "1     2021-06-30 09:00:00.000  서울   368\n",
              "2     2021-06-30 09:00:00.000  부산    13\n",
              "3     2021-06-30 09:00:00.000  대구    11\n",
              "4     2021-06-30 09:00:00.000  인천    29\n",
              "...                       ...  ..   ...\n",
              "2845  2021-02-01 09:00:00.000  전남     0\n",
              "2846  2021-02-01 09:00:00.000  경북     4\n",
              "2847  2021-02-01 09:00:00.000  경남     4\n",
              "2848  2021-02-01 09:00:00.000  제주     0\n",
              "2849  2021-02-01 09:00:00.000  검역     0\n",
              "\n",
              "[2850 rows x 3 columns]"
            ]
          },
          "metadata": {},
          "execution_count": 25
        }
      ]
    },
    {
      "cell_type": "code",
      "metadata": {
        "colab": {
          "base_uri": "https://localhost:8080/"
        },
        "id": "8Vblck2ycAj9",
        "outputId": "8c129378-6604-430b-bd27-469594d604d0"
      },
      "source": [
        "df_corona['기준일시'] = df_corona['기준일시'].astype(\"string\")"
      ],
      "execution_count": null,
      "outputs": [
        {
          "output_type": "stream",
          "name": "stderr",
          "text": [
            "/usr/local/lib/python3.7/dist-packages/ipykernel_launcher.py:1: SettingWithCopyWarning: \n",
            "A value is trying to be set on a copy of a slice from a DataFrame.\n",
            "Try using .loc[row_indexer,col_indexer] = value instead\n",
            "\n",
            "See the caveats in the documentation: https://pandas.pydata.org/pandas-docs/stable/user_guide/indexing.html#returning-a-view-versus-a-copy\n",
            "  \"\"\"Entry point for launching an IPython kernel.\n"
          ]
        }
      ]
    },
    {
      "cell_type": "code",
      "metadata": {
        "colab": {
          "base_uri": "https://localhost:8080/",
          "height": 524
        },
        "id": "KrQ2rn4OexVV",
        "outputId": "817c943e-2ca8-4840-a2a7-48423d646cef"
      },
      "source": [
        "dateArr = []\n",
        "for i in range(0,len(df_corona)):\n",
        "    dateArr.append((df_corona['기준일시'][i].split(' '))[0])\n",
        "df_corona['기준일시'] = dateArr\n",
        "df_corona"
      ],
      "execution_count": null,
      "outputs": [
        {
          "output_type": "stream",
          "name": "stderr",
          "text": [
            "/usr/local/lib/python3.7/dist-packages/ipykernel_launcher.py:4: SettingWithCopyWarning: \n",
            "A value is trying to be set on a copy of a slice from a DataFrame.\n",
            "Try using .loc[row_indexer,col_indexer] = value instead\n",
            "\n",
            "See the caveats in the documentation: https://pandas.pydata.org/pandas-docs/stable/user_guide/indexing.html#returning-a-view-versus-a-copy\n",
            "  after removing the cwd from sys.path.\n"
          ]
        },
        {
          "output_type": "execute_result",
          "data": {
            "text/html": [
              "<div>\n",
              "<style scoped>\n",
              "    .dataframe tbody tr th:only-of-type {\n",
              "        vertical-align: middle;\n",
              "    }\n",
              "\n",
              "    .dataframe tbody tr th {\n",
              "        vertical-align: top;\n",
              "    }\n",
              "\n",
              "    .dataframe thead th {\n",
              "        text-align: right;\n",
              "    }\n",
              "</style>\n",
              "<table border=\"1\" class=\"dataframe\">\n",
              "  <thead>\n",
              "    <tr style=\"text-align: right;\">\n",
              "      <th></th>\n",
              "      <th>기준일시</th>\n",
              "      <th>지역</th>\n",
              "      <th>지역발생수</th>\n",
              "    </tr>\n",
              "  </thead>\n",
              "  <tbody>\n",
              "    <tr>\n",
              "      <th>0</th>\n",
              "      <td>2021-06-30</td>\n",
              "      <td>합계</td>\n",
              "      <td>759</td>\n",
              "    </tr>\n",
              "    <tr>\n",
              "      <th>1</th>\n",
              "      <td>2021-06-30</td>\n",
              "      <td>서울</td>\n",
              "      <td>368</td>\n",
              "    </tr>\n",
              "    <tr>\n",
              "      <th>2</th>\n",
              "      <td>2021-06-30</td>\n",
              "      <td>부산</td>\n",
              "      <td>13</td>\n",
              "    </tr>\n",
              "    <tr>\n",
              "      <th>3</th>\n",
              "      <td>2021-06-30</td>\n",
              "      <td>대구</td>\n",
              "      <td>11</td>\n",
              "    </tr>\n",
              "    <tr>\n",
              "      <th>4</th>\n",
              "      <td>2021-06-30</td>\n",
              "      <td>인천</td>\n",
              "      <td>29</td>\n",
              "    </tr>\n",
              "    <tr>\n",
              "      <th>...</th>\n",
              "      <td>...</td>\n",
              "      <td>...</td>\n",
              "      <td>...</td>\n",
              "    </tr>\n",
              "    <tr>\n",
              "      <th>2845</th>\n",
              "      <td>2021-02-01</td>\n",
              "      <td>전남</td>\n",
              "      <td>0</td>\n",
              "    </tr>\n",
              "    <tr>\n",
              "      <th>2846</th>\n",
              "      <td>2021-02-01</td>\n",
              "      <td>경북</td>\n",
              "      <td>4</td>\n",
              "    </tr>\n",
              "    <tr>\n",
              "      <th>2847</th>\n",
              "      <td>2021-02-01</td>\n",
              "      <td>경남</td>\n",
              "      <td>4</td>\n",
              "    </tr>\n",
              "    <tr>\n",
              "      <th>2848</th>\n",
              "      <td>2021-02-01</td>\n",
              "      <td>제주</td>\n",
              "      <td>0</td>\n",
              "    </tr>\n",
              "    <tr>\n",
              "      <th>2849</th>\n",
              "      <td>2021-02-01</td>\n",
              "      <td>검역</td>\n",
              "      <td>0</td>\n",
              "    </tr>\n",
              "  </tbody>\n",
              "</table>\n",
              "<p>2850 rows × 3 columns</p>\n",
              "</div>"
            ],
            "text/plain": [
              "            기준일시  지역 지역발생수\n",
              "0     2021-06-30  합계   759\n",
              "1     2021-06-30  서울   368\n",
              "2     2021-06-30  부산    13\n",
              "3     2021-06-30  대구    11\n",
              "4     2021-06-30  인천    29\n",
              "...          ...  ..   ...\n",
              "2845  2021-02-01  전남     0\n",
              "2846  2021-02-01  경북     4\n",
              "2847  2021-02-01  경남     4\n",
              "2848  2021-02-01  제주     0\n",
              "2849  2021-02-01  검역     0\n",
              "\n",
              "[2850 rows x 3 columns]"
            ]
          },
          "metadata": {},
          "execution_count": 27
        }
      ]
    },
    {
      "cell_type": "code",
      "metadata": {
        "id": "T6cq_tK2aB0R"
      },
      "source": [
        "df_corona.to_csv(\"/content/drive/MyDrive/예측 모델링/Data/시도별_코로나데이터.csv\",encoding='cp949')"
      ],
      "execution_count": null,
      "outputs": []
    },
    {
      "cell_type": "code",
      "metadata": {
        "id": "_9_D72E3ffSb"
      },
      "source": [
        ""
      ],
      "execution_count": null,
      "outputs": []
    }
  ]
}